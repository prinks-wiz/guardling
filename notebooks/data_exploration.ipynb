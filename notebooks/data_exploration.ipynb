{
 "cells": [
  {
   "cell_type": "markdown",
   "metadata": {},
   "source": [
    "# Load the dataset"
   ]
  },
  {
   "cell_type": "code",
   "execution_count": 1,
   "metadata": {},
   "outputs": [
    {
     "name": "stderr",
     "output_type": "stream",
     "text": [
      "/Users/prinks/guardling/guarling/lib/python3.9/site-packages/urllib3/__init__.py:35: NotOpenSSLWarning: urllib3 v2 only supports OpenSSL 1.1.1+, currently the 'ssl' module is compiled with 'LibreSSL 2.8.3'. See: https://github.com/urllib3/urllib3/issues/3020\n",
      "  warnings.warn(\n",
      "/Users/prinks/guardling/guarling/lib/python3.9/site-packages/tqdm/auto.py:21: TqdmWarning: IProgress not found. Please update jupyter and ipywidgets. See https://ipywidgets.readthedocs.io/en/stable/user_install.html\n",
      "  from .autonotebook import tqdm as notebook_tqdm\n"
     ]
    }
   ],
   "source": [
    "from datasets import load_dataset\n",
    "import pandas as pd\n",
    "import seaborn as sns"
   ]
  },
  {
   "cell_type": "code",
   "execution_count": 2,
   "metadata": {},
   "outputs": [],
   "source": [
    "ds = load_dataset(\"toxigen/toxigen-data\", \"annotated\")"
   ]
  },
  {
   "cell_type": "code",
   "execution_count": 3,
   "metadata": {},
   "outputs": [],
   "source": [
    "test = pd.DataFrame(ds[\"test\"])"
   ]
  },
  {
   "cell_type": "code",
   "execution_count": 4,
   "metadata": {},
   "outputs": [
    {
     "data": {
      "text/plain": [
       "(940, 13)"
      ]
     },
     "execution_count": 4,
     "metadata": {},
     "output_type": "execute_result"
    }
   ],
   "source": [
    "test.shape"
   ]
  },
  {
   "cell_type": "code",
   "execution_count": 5,
   "metadata": {},
   "outputs": [
    {
     "data": {
      "text/html": [
       "<div>\n",
       "<style scoped>\n",
       "    .dataframe tbody tr th:only-of-type {\n",
       "        vertical-align: middle;\n",
       "    }\n",
       "\n",
       "    .dataframe tbody tr th {\n",
       "        vertical-align: top;\n",
       "    }\n",
       "\n",
       "    .dataframe thead th {\n",
       "        text-align: right;\n",
       "    }\n",
       "</style>\n",
       "<table border=\"1\" class=\"dataframe\">\n",
       "  <thead>\n",
       "    <tr style=\"text-align: right;\">\n",
       "      <th></th>\n",
       "      <th>text</th>\n",
       "      <th>target_group</th>\n",
       "      <th>factual?</th>\n",
       "      <th>ingroup_effect</th>\n",
       "      <th>lewd</th>\n",
       "      <th>framing</th>\n",
       "      <th>predicted_group</th>\n",
       "      <th>stereotyping</th>\n",
       "      <th>intent</th>\n",
       "      <th>toxicity_ai</th>\n",
       "      <th>toxicity_human</th>\n",
       "      <th>predicted_author</th>\n",
       "      <th>actual_method</th>\n",
       "    </tr>\n",
       "  </thead>\n",
       "  <tbody>\n",
       "    <tr>\n",
       "      <th>8303</th>\n",
       "      <td>i just cant believe we need id to buy beer but...</td>\n",
       "      <td>mexican</td>\n",
       "      <td>neither factual nor opinion</td>\n",
       "      <td>doesn't use in-group language</td>\n",
       "      <td>doesn't contain lewd content</td>\n",
       "      <td></td>\n",
       "      <td>['it is unclear who is referenced', 'it is unc...</td>\n",
       "      <td>doesn't use positive stereotyping</td>\n",
       "      <td>1.000000</td>\n",
       "      <td>1.000000</td>\n",
       "      <td>1.000000</td>\n",
       "      <td>human</td>\n",
       "      <td>topk</td>\n",
       "    </tr>\n",
       "    <tr>\n",
       "      <th>1842</th>\n",
       "      <td>black men and boys are more likely than any ot...</td>\n",
       "      <td>black</td>\n",
       "      <td>factual</td>\n",
       "      <td>doesn't use in-group language</td>\n",
       "      <td>doesn't contain lewd content</td>\n",
       "      <td>disagreement</td>\n",
       "      <td>the text directly references black</td>\n",
       "      <td>doesn't use positive stereotyping</td>\n",
       "      <td>1.000000</td>\n",
       "      <td>1.000000</td>\n",
       "      <td>1.000000</td>\n",
       "      <td>human</td>\n",
       "      <td>cbs</td>\n",
       "    </tr>\n",
       "    <tr>\n",
       "      <th>8489</th>\n",
       "      <td>they do not have the guts to do what I have do...</td>\n",
       "      <td>jewish</td>\n",
       "      <td>neither factual nor opinion</td>\n",
       "      <td>doesn't use in-group language</td>\n",
       "      <td>doesn't contain lewd content</td>\n",
       "      <td></td>\n",
       "      <td>it is unclear who is referenced</td>\n",
       "      <td>doesn't use positive stereotyping</td>\n",
       "      <td>2.666667</td>\n",
       "      <td>2.666667</td>\n",
       "      <td>2.666667</td>\n",
       "      <td>ai</td>\n",
       "      <td>cbs</td>\n",
       "    </tr>\n",
       "    <tr>\n",
       "      <th>6027</th>\n",
       "      <td>mental illnesses are real illnesses, just like...</td>\n",
       "      <td>mental_dis</td>\n",
       "      <td>disagreement</td>\n",
       "      <td>doesn't use in-group language</td>\n",
       "      <td>doesn't contain lewd content</td>\n",
       "      <td>disagreement</td>\n",
       "      <td>['the text directly references mental_dis', 't...</td>\n",
       "      <td>doesn't use positive stereotyping</td>\n",
       "      <td>1.000000</td>\n",
       "      <td>1.000000</td>\n",
       "      <td>1.000000</td>\n",
       "      <td>human</td>\n",
       "      <td>cbs</td>\n",
       "    </tr>\n",
       "    <tr>\n",
       "      <th>8100</th>\n",
       "      <td>they cannot have a productive life</td>\n",
       "      <td>physical_dis</td>\n",
       "      <td>neither factual nor opinion</td>\n",
       "      <td>doesn't use in-group language</td>\n",
       "      <td>doesn't contain lewd content</td>\n",
       "      <td>moral</td>\n",
       "      <td>['the text indirectly references physical_dis'...</td>\n",
       "      <td>doesn't use positive stereotyping</td>\n",
       "      <td>2.000000</td>\n",
       "      <td>3.333333</td>\n",
       "      <td>3.333333</td>\n",
       "      <td>human</td>\n",
       "      <td>topk</td>\n",
       "    </tr>\n",
       "  </tbody>\n",
       "</table>\n",
       "</div>"
      ],
      "text/plain": [
       "                                                   text  target_group  \\\n",
       "8303  i just cant believe we need id to buy beer but...       mexican   \n",
       "1842  black men and boys are more likely than any ot...         black   \n",
       "8489  they do not have the guts to do what I have do...        jewish   \n",
       "6027  mental illnesses are real illnesses, just like...    mental_dis   \n",
       "8100                 they cannot have a productive life  physical_dis   \n",
       "\n",
       "                         factual?                 ingroup_effect  \\\n",
       "8303  neither factual nor opinion  doesn't use in-group language   \n",
       "1842                      factual  doesn't use in-group language   \n",
       "8489  neither factual nor opinion  doesn't use in-group language   \n",
       "6027                 disagreement  doesn't use in-group language   \n",
       "8100  neither factual nor opinion  doesn't use in-group language   \n",
       "\n",
       "                              lewd       framing  \\\n",
       "8303  doesn't contain lewd content                 \n",
       "1842  doesn't contain lewd content  disagreement   \n",
       "8489  doesn't contain lewd content                 \n",
       "6027  doesn't contain lewd content  disagreement   \n",
       "8100  doesn't contain lewd content         moral   \n",
       "\n",
       "                                        predicted_group  \\\n",
       "8303  ['it is unclear who is referenced', 'it is unc...   \n",
       "1842                 the text directly references black   \n",
       "8489                    it is unclear who is referenced   \n",
       "6027  ['the text directly references mental_dis', 't...   \n",
       "8100  ['the text indirectly references physical_dis'...   \n",
       "\n",
       "                           stereotyping    intent  toxicity_ai  \\\n",
       "8303  doesn't use positive stereotyping  1.000000     1.000000   \n",
       "1842  doesn't use positive stereotyping  1.000000     1.000000   \n",
       "8489  doesn't use positive stereotyping  2.666667     2.666667   \n",
       "6027  doesn't use positive stereotyping  1.000000     1.000000   \n",
       "8100  doesn't use positive stereotyping  2.000000     3.333333   \n",
       "\n",
       "      toxicity_human predicted_author actual_method  \n",
       "8303        1.000000            human          topk  \n",
       "1842        1.000000            human           cbs  \n",
       "8489        2.666667               ai           cbs  \n",
       "6027        1.000000            human           cbs  \n",
       "8100        3.333333            human          topk  "
      ]
     },
     "execution_count": 5,
     "metadata": {},
     "output_type": "execute_result"
    }
   ],
   "source": [
    "train = pd.DataFrame(ds[\"train\"]) # Toxigen is stored in the train split of a huggingface dataset\n",
    "train.sample(5)"
   ]
  },
  {
   "cell_type": "code",
   "execution_count": 6,
   "metadata": {},
   "outputs": [
    {
     "data": {
      "text/plain": [
       "Index(['text', 'target_group', 'factual?', 'ingroup_effect', 'lewd', 'framing',\n",
       "       'predicted_group', 'stereotyping', 'intent', 'toxicity_ai',\n",
       "       'toxicity_human', 'predicted_author', 'actual_method'],\n",
       "      dtype='object')"
      ]
     },
     "execution_count": 6,
     "metadata": {},
     "output_type": "execute_result"
    }
   ],
   "source": [
    "train.columns"
   ]
  },
  {
   "cell_type": "code",
   "execution_count": 29,
   "metadata": {},
   "outputs": [
    {
     "data": {
      "text/plain": [
       "array(['opinion', 'neither factual nor opinion', 'disagreement',\n",
       "       'factual', 'both factual and opinion'], dtype=object)"
      ]
     },
     "execution_count": 29,
     "metadata": {},
     "output_type": "execute_result"
    }
   ],
   "source": [
    "train['factual?'].unique()"
   ]
  },
  {
   "cell_type": "code",
   "execution_count": 30,
   "metadata": {},
   "outputs": [
    {
     "data": {
      "text/plain": [
       "array(['asian', 'mexican', 'muslim', 'physical_dis', 'jewish',\n",
       "       'native_american', 'lgbtq', 'women', 'middle_east', 'chinese',\n",
       "       'mental_dis', 'latino', 'black'], dtype=object)"
      ]
     },
     "execution_count": 30,
     "metadata": {},
     "output_type": "execute_result"
    }
   ],
   "source": [
    "train['target_group'].unique()"
   ]
  },
  {
   "cell_type": "code",
   "execution_count": 31,
   "metadata": {},
   "outputs": [
    {
     "data": {
      "text/plain": [
       "array([5.        , 1.        , 3.        , 2.        , 4.33333333,\n",
       "       4.        , 2.66666667, 1.66666667, 1.33333333, 3.33333333,\n",
       "       3.66666667, 2.33333333, 4.66666667])"
      ]
     },
     "execution_count": 31,
     "metadata": {},
     "output_type": "execute_result"
    }
   ],
   "source": [
    "train['toxicity_human'].unique()"
   ]
  },
  {
   "cell_type": "code",
   "execution_count": 7,
   "metadata": {},
   "outputs": [
    {
     "data": {
      "text/plain": [
       "(8960, 13)"
      ]
     },
     "execution_count": 7,
     "metadata": {},
     "output_type": "execute_result"
    }
   ],
   "source": [
    "train.shape"
   ]
  },
  {
   "cell_type": "code",
   "execution_count": 8,
   "metadata": {},
   "outputs": [
    {
     "data": {
      "text/plain": [
       "array(['asian', 'mexican', 'muslim', 'physical_dis', 'jewish',\n",
       "       'native_american', 'lgbtq', 'women', 'middle_east', 'chinese',\n",
       "       'mental_dis', 'latino', 'black'], dtype=object)"
      ]
     },
     "execution_count": 8,
     "metadata": {},
     "output_type": "execute_result"
    }
   ],
   "source": [
    "train[\"target_group\"].unique()"
   ]
  },
  {
   "cell_type": "code",
   "execution_count": 9,
   "metadata": {},
   "outputs": [
    {
     "data": {
      "text/plain": [
       "<Axes: xlabel='toxicity_ai', ylabel='Count'>"
      ]
     },
     "execution_count": 9,
     "metadata": {},
     "output_type": "execute_result"
    },
    {
     "data": {
      "image/png": "[encoded data removed]",
      "text/plain": [
       "<Figure size 640x480 with 1 Axes>"
      ]
     },
     "metadata": {},
     "output_type": "display_data"
    }
   ],
   "source": [
    "sns.histplot(data=train, x=\"toxicity_ai\",stat=\"count\")"
   ]
  },
  {
   "cell_type": "code",
   "execution_count": 10,
   "metadata": {},
   "outputs": [
    {
     "data": {
      "text/plain": [
       "<Axes: xlabel='toxicity_human', ylabel='Count'>"
      ]
     },
     "execution_count": 10,
     "metadata": {},
     "output_type": "execute_result"
    },
    {
     "data": {
      "image/png": "[encoded data removed]",
      "text/plain": [
       "<Figure size 640x480 with 1 Axes>"
      ]
     },
     "metadata": {},
     "output_type": "display_data"
    }
   ],
   "source": [
    "sns.histplot(data=train, x=\"toxicity_human\",stat=\"count\")"
   ]
  },
  {
   "cell_type": "code",
   "execution_count": 11,
   "metadata": {},
   "outputs": [
    {
     "data": {
      "image/png": "[encoded data removed]",
      "text/plain": [
       "<Figure size 640x480 with 1 Axes>"
      ]
     },
     "metadata": {},
     "output_type": "display_data"
    }
   ],
   "source": [
    "import matplotlib.pyplot as plt\n",
    "\n",
    "plt.hist(train['toxicity_ai'], bins=50, alpha=0.5, label='AI')\n",
    "plt.hist(train['toxicity_human'], bins=50, alpha=0.5, label='Human')\n",
    "plt.legend()\n",
    "plt.title(\"Toxicity Score Distribution\")\n",
    "plt.show()\n"
   ]
  },
  {
   "cell_type": "code",
   "execution_count": 12,
   "metadata": {},
   "outputs": [
    {
     "name": "stdout",
     "output_type": "stream",
     "text": [
      "Correlation:                 toxicity_ai  toxicity_human\n",
      "toxicity_ai        1.000000        0.992268\n",
      "toxicity_human     0.992268        1.000000\n"
     ]
    }
   ],
   "source": [
    "print(\"Correlation:\", train[['toxicity_ai', 'toxicity_human']].corr())\n"
   ]
  },
  {
   "cell_type": "code",
   "execution_count": 13,
   "metadata": {},
   "outputs": [
    {
     "name": "stdout",
     "output_type": "stream",
     "text": [
      "target_group\n",
      "women              717\n",
      "lgbtq              714\n",
      "mental_dis         714\n",
      "black              713\n",
      "chinese            706\n",
      "asian              702\n",
      "native_american    702\n",
      "middle_east        697\n",
      "muslim             688\n",
      "physical_dis       685\n",
      "mexican            684\n",
      "jewish             684\n",
      "latino             554\n",
      "Name: count, dtype: int64\n",
      "predicted groups\n",
      "predicted_group\n",
      "it is unclear who is referenced                                                                                                1745\n",
      "the text directly references mental_dis                                                                                         338\n",
      "the text directly references physical_dis                                                                                       295\n",
      "the text directly references jewish                                                                                             287\n",
      "the text directly references women                                                                                              258\n",
      "                                                                                                                               ... \n",
      "['the text references mentally disabled people', 'the text directly references mexican', 'it is unclear who is referenced']       1\n",
      "['the text references asians/whites', 'the text references asians, whites', 'the text references whites, asians']                 1\n",
      "['the text indirectly references black', 'the text references white women feminists', 'the text references white feminist']       1\n",
      "['the text references chinese', 'the text directly references latino', 'the text references chinese']                             1\n",
      "['the text references white', 'the text references whites', 'the text references white folks']                                    1\n",
      "Name: count, Length: 1476, dtype: int64\n"
     ]
    }
   ],
   "source": [
    "print(train['target_group'].value_counts())\n",
    "print(\"predicted groups\")\n",
    "print(train['predicted_group'].value_counts())\n"
   ]
  },
  {
   "cell_type": "code",
   "execution_count": 14,
   "metadata": {},
   "outputs": [
    {
     "data": {
      "image/png": "[encoded data removed]",
      "text/plain": [
       "<Figure size 1000x600 with 1 Axes>"
      ]
     },
     "metadata": {},
     "output_type": "display_data"
    }
   ],
   "source": [
    "group_tox = train.groupby('target_group')[['toxicity_human']].median().sort_values(by='toxicity_human', ascending=False)\n",
    "\n",
    "group_tox = group_tox.reset_index()\n",
    "\n",
    "plt.figure(figsize=(10, 6))\n",
    "plt.barh(group_tox['target_group'], group_tox['toxicity_human'], color='coral')\n",
    "plt.xlabel(\"Average Human Toxicity\")\n",
    "plt.ylabel(\"Target Group\")\n",
    "plt.title(\"Median Human Toxicity by Target Group\")\n",
    "plt.tight_layout()\n",
    "plt.show()\n"
   ]
  },
  {
   "cell_type": "markdown",
   "metadata": {},
   "source": [
    "## Building the Classifier"
   ]
  },
  {
   "cell_type": "code",
   "execution_count": 15,
   "metadata": {},
   "outputs": [],
   "source": [
    "# == Config ==\n",
    "MAX_LEN = 128\n",
    "BATCH_SIZE = 32\n",
    "MODEL_NAME = \"bert-base-uncased\"\n",
    "\n",
    "# == Imports ==\n",
    "import torch\n",
    "from torch.utils.data import Dataset, DataLoader\n",
    "from sklearn.preprocessing import LabelEncoder\n",
    "from transformers import BertTokenizer\n",
    "\n",
    "import pandas as pd\n",
    "import numpy as np\n"
   ]
  },
  {
   "cell_type": "markdown",
   "metadata": {},
   "source": [
    "#### Preprocessing Text"
   ]
  },
  {
   "cell_type": "code",
   "execution_count": 34,
   "metadata": {},
   "outputs": [],
   "source": [
    "# Drop rows with NaNs in required columns\n",
    "train = train.dropna(subset=['text', 'factual?', 'target_group', 'toxicity_human'])\n",
    "\n",
    "# Reset index to avoid indexing issues later\n",
    "train = train.reset_index(drop=True)\n",
    "\n",
    "# Encode labels\n",
    "factual_encoder = LabelEncoder()\n",
    "target_encoder = LabelEncoder()\n",
    "\n",
    "train['factual_label'] = factual_encoder.fit_transform(train['factual?'])\n",
    "train['target_label'] = target_encoder.fit_transform(train['target_group'])\n",
    "\n",
    "# Convert toxicity to int 0–4\n",
    "train['toxicity_label'] = train['toxicity_human'].astype(int) - 1\n"
   ]
  },
  {
   "cell_type": "code",
   "execution_count": 35,
   "metadata": {},
   "outputs": [],
   "source": [
    "tokenizer = BertTokenizer.from_pretrained(\"bert-base-uncased\")\n"
   ]
  },
  {
   "cell_type": "code",
   "execution_count": 36,
   "metadata": {},
   "outputs": [],
   "source": [
    "class ToxiGenDataset(Dataset):\n",
    "    def __init__(self, df, tokenizer, max_len=128):\n",
    "        self.texts = df['text'].tolist()\n",
    "        self.factual = df['factual_label'].tolist()\n",
    "        self.target = df['target_label'].tolist()\n",
    "        self.toxicity = df['toxicity_label'].tolist()\n",
    "        self.tokenizer = tokenizer\n",
    "        self.max_len = max_len\n",
    "\n",
    "    def __len__(self):\n",
    "        return len(self.texts)\n",
    "\n",
    "    def __getitem__(self, idx):\n",
    "        encoding = self.tokenizer(\n",
    "            self.texts[idx],\n",
    "            padding='max_length',\n",
    "            truncation=True,\n",
    "            max_length=self.max_len,\n",
    "            return_tensors='pt'\n",
    "        )\n",
    "\n",
    "        return {\n",
    "            'input_ids': encoding['input_ids'].squeeze(),\n",
    "            'attention_mask': encoding['attention_mask'].squeeze(),\n",
    "            'factual': torch.tensor(self.factual[idx], dtype=torch.long),\n",
    "            'target': torch.tensor(self.target[idx], dtype=torch.long),\n",
    "            'toxicity': torch.tensor(self.toxicity[idx], dtype=torch.long)\n",
    "        }\n"
   ]
  },
  {
   "cell_type": "code",
   "execution_count": 37,
   "metadata": {},
   "outputs": [
    {
     "name": "stdout",
     "output_type": "stream",
     "text": [
      "Factual classes: 5\n",
      "Target group classes: 13\n",
      "Toxicity classes: 5\n"
     ]
    }
   ],
   "source": [
    "num_factual_classes = len(factual_encoder.classes_)\n",
    "num_target_classes = len(target_encoder.classes_)\n",
    "num_toxicity_classes = 5\n",
    "\n",
    "print(f\"Factual classes: {num_factual_classes}\")\n",
    "print(f\"Target group classes: {num_target_classes}\")\n",
    "print(f\"Toxicity classes: {num_toxicity_classes}\")\n"
   ]
  },
  {
   "cell_type": "code",
   "execution_count": 38,
   "metadata": {},
   "outputs": [],
   "source": [
    "dataset = ToxiGenDataset(train, tokenizer)\n",
    "train_loader = DataLoader(dataset, batch_size=16, shuffle=True)\n"
   ]
  },
  {
   "cell_type": "markdown",
   "metadata": {},
   "source": [
    "## Training Model"
   ]
  },
  {
   "cell_type": "code",
   "execution_count": 39,
   "metadata": {},
   "outputs": [],
   "source": [
    "import torch.nn as nn\n",
    "from transformers import BertModel\n"
   ]
  },
  {
   "cell_type": "code",
   "execution_count": 44,
   "metadata": {},
   "outputs": [],
   "source": [
    "class ToxiGenMultiTaskClassifier(nn.Module):\n",
    "    def __init__(self, num_factual_classes, num_target_classes, num_toxicity_classes):\n",
    "        super(ToxiGenMultiTaskClassifier, self).__init__()\n",
    "        self.bert = BertModel.from_pretrained(\"bert-base-uncased\")\n",
    "\n",
    "        # Shared dropout layer\n",
    "        self.dropout = nn.Dropout(0.3)\n",
    "\n",
    "        # Separate classification heads\n",
    "        self.factual_head = nn.Linear(self.bert.config.hidden_size, num_factual_classes)\n",
    "        self.target_head = nn.Linear(self.bert.config.hidden_size, num_target_classes)\n",
    "        self.toxicity_head = nn.Linear(self.bert.config.hidden_size, num_toxicity_classes)\n",
    "\n",
    "    def forward(self, input_ids, attention_mask):\n",
    "        outputs = self.bert(input_ids=input_ids, attention_mask=attention_mask)\n",
    "        pooled_output = self.dropout(outputs.pooler_output)\n",
    "\n",
    "        factual_logits = self.factual_head(pooled_output)\n",
    "        target_logits = self.target_head(pooled_output)\n",
    "        toxicity_logits = self.toxicity_head(pooled_output)\n",
    "\n",
    "        return factual_logits, target_logits, toxicity_logits\n"
   ]
  },
  {
   "cell_type": "code",
   "execution_count": 45,
   "metadata": {},
   "outputs": [],
   "source": [
    "model = ToxiGenMultiTaskClassifier(\n",
    "    num_factual_classes=num_factual_classes,\n",
    "    num_target_classes=num_target_classes,\n",
    "    num_toxicity_classes=num_toxicity_classes\n",
    ")\n"
   ]
  },
  {
   "cell_type": "code",
   "execution_count": 46,
   "metadata": {},
   "outputs": [
    {
     "name": "stdout",
     "output_type": "stream",
     "text": [
      "Factual logits: torch.Size([16, 5])\n",
      "Target logits: torch.Size([16, 13])\n",
      "Toxicity logits: torch.Size([16, 5])\n"
     ]
    }
   ],
   "source": [
    "batch = next(iter(train_loader))\n",
    "factual_logits, target_logits, toxicity_logits = model(batch['input_ids'], batch['attention_mask'])\n",
    "\n",
    "print(\"Factual logits:\", factual_logits.shape)\n",
    "print(\"Target logits:\", target_logits.shape)\n",
    "print(\"Toxicity logits:\", toxicity_logits.shape)\n"
   ]
  },
  {
   "cell_type": "markdown",
   "metadata": {},
   "source": [
    "### Running the training"
   ]
  },
  {
   "cell_type": "code",
   "execution_count": 48,
   "metadata": {},
   "outputs": [],
   "source": [
    "import torch\n",
    "from torch.optim import AdamW\n",
    "\n",
    "\n",
    "# Set device\n",
    "device = torch.device(\"cuda\" if torch.cuda.is_available() else \"cpu\")\n",
    "model = model.to(device)\n",
    "\n",
    "# Define loss functions\n",
    "criterion_factual = torch.nn.CrossEntropyLoss()\n",
    "criterion_target = torch.nn.CrossEntropyLoss()\n",
    "criterion_toxicity = torch.nn.CrossEntropyLoss()\n",
    "\n",
    "# Optimizer\n",
    "optimizer = AdamW(model.parameters(), lr=2e-5, weight_decay=0.01)\n",
    "\n",
    "# Epochs\n",
    "epochs = 4\n"
   ]
  },
  {
   "cell_type": "code",
   "execution_count": 49,
   "metadata": {},
   "outputs": [
    {
     "name": "stderr",
     "output_type": "stream",
     "text": [
      "Epoch 1/4: 100%|██████████| 560/560 [15:58<00:00,  1.71s/it, loss=0.273]\n"
     ]
    },
    {
     "name": "stdout",
     "output_type": "stream",
     "text": [
      "Epoch 1 — Loss: 2442.2487 — Accuracies: Factual: 0.57, Target: 0.39, Toxicity: 0.50\n"
     ]
    },
    {
     "name": "stderr",
     "output_type": "stream",
     "text": [
      "Epoch 2/4: 100%|██████████| 560/560 [14:17<00:00,  1.53s/it, loss=0.192]\n"
     ]
    },
    {
     "name": "stdout",
     "output_type": "stream",
     "text": [
      "Epoch 2 — Loss: 1718.2692 — Accuracies: Factual: 0.62, Target: 0.71, Toxicity: 0.58\n"
     ]
    },
    {
     "name": "stderr",
     "output_type": "stream",
     "text": [
      "Epoch 3/4: 100%|██████████| 560/560 [14:19<00:00,  1.53s/it, loss=0.157]\n"
     ]
    },
    {
     "name": "stdout",
     "output_type": "stream",
     "text": [
      "Epoch 3 — Loss: 1407.2998 — Accuracies: Factual: 0.64, Target: 0.80, Toxicity: 0.64\n"
     ]
    },
    {
     "name": "stderr",
     "output_type": "stream",
     "text": [
      "Epoch 4/4: 100%|██████████| 560/560 [14:12<00:00,  1.52s/it, loss=0.129]"
     ]
    },
    {
     "name": "stdout",
     "output_type": "stream",
     "text": [
      "Epoch 4 — Loss: 1160.2299 — Accuracies: Factual: 0.66, Target: 0.87, Toxicity: 0.69\n"
     ]
    },
    {
     "name": "stderr",
     "output_type": "stream",
     "text": [
      "\n"
     ]
    }
   ],
   "source": [
    "from tqdm import tqdm\n",
    "\n",
    "for epoch in range(epochs):\n",
    "    model.train()\n",
    "    total_loss = 0\n",
    "    correct_factual = 0\n",
    "    correct_target = 0\n",
    "    correct_toxicity = 0\n",
    "    total = 0\n",
    "\n",
    "    loop = tqdm(train_loader, desc=f\"Epoch {epoch+1}/{epochs}\")\n",
    "\n",
    "    for batch in loop:\n",
    "        input_ids = batch['input_ids'].to(device)\n",
    "        attention_mask = batch['attention_mask'].to(device)\n",
    "        factual = batch['factual'].to(device)\n",
    "        target = batch['target'].to(device)\n",
    "        toxicity = batch['toxicity'].to(device)\n",
    "\n",
    "        optimizer.zero_grad()\n",
    "\n",
    "        factual_logits, target_logits, toxicity_logits = model(input_ids, attention_mask)\n",
    "\n",
    "        loss_factual = criterion_factual(factual_logits, factual)\n",
    "        loss_target = criterion_target(target_logits, target)\n",
    "        loss_toxicity = criterion_toxicity(toxicity_logits, toxicity)\n",
    "\n",
    "        loss = loss_factual + loss_target + loss_toxicity\n",
    "        loss.backward()\n",
    "        optimizer.step()\n",
    "\n",
    "        total_loss += loss.item()\n",
    "\n",
    "        # Accuracy\n",
    "        _, pred_factual = torch.max(factual_logits, dim=1)\n",
    "        _, pred_target = torch.max(target_logits, dim=1)\n",
    "        _, pred_toxicity = torch.max(toxicity_logits, dim=1)\n",
    "\n",
    "        correct_factual += (pred_factual == factual).sum().item()\n",
    "        correct_target += (pred_target == target).sum().item()\n",
    "        correct_toxicity += (pred_toxicity == toxicity).sum().item()\n",
    "        total += factual.size(0)\n",
    "\n",
    "        loop.set_postfix(loss=total_loss/total)\n",
    "\n",
    "    print(f\"Epoch {epoch+1} — Loss: {total_loss:.4f} — Accuracies: \"\n",
    "          f\"Factual: {correct_factual/total:.2f}, \"\n",
    "          f\"Target: {correct_target/total:.2f}, \"\n",
    "          f\"Toxicity: {correct_toxicity/total:.2f}\")\n"
   ]
  },
  {
   "cell_type": "code",
   "execution_count": 50,
   "metadata": {},
   "outputs": [
    {
     "data": {
      "text/plain": [
       "('toxigen_tokenizer/tokenizer_config.json',\n",
       " 'toxigen_tokenizer/special_tokens_map.json',\n",
       " 'toxigen_tokenizer/vocab.txt',\n",
       " 'toxigen_tokenizer/added_tokens.json')"
      ]
     },
     "execution_count": 50,
     "metadata": {},
     "output_type": "execute_result"
    }
   ],
   "source": [
    "import torch\n",
    "\n",
    "# Save model state_dict\n",
    "torch.save(model.state_dict(), \"toxigen_multitask_model.pt\")\n",
    "\n",
    "# Save tokenizer\n",
    "tokenizer.save_pretrained(\"toxigen_tokenizer\")\n"
   ]
  },
  {
   "cell_type": "code",
   "execution_count": 51,
   "metadata": {},
   "outputs": [],
   "source": [
    "# Save optimizer (optional)\n",
    "torch.save(optimizer.state_dict(), \"optimizer.pt\")\n",
    "\n",
    "# Reload later\n",
    "optimizer.load_state_dict(torch.load(\"optimizer.pt\"))\n"
   ]
  }
 ],
 "metadata": {
  "kernelspec": {
   "display_name": "guarling",
   "language": "python",
   "name": "python3"
  },
  "language_info": {
   "codemirror_mode": {
    "name": "ipython",
    "version": 3
   },
   "file_extension": ".py",
   "mimetype": "text/x-python",
   "name": "python",
   "nbconvert_exporter": "python",
   "pygments_lexer": "ipython3",
   "version": "3.9.6"
  }
 },
 "nbformat": 4,
 "nbformat_minor": 2
}
